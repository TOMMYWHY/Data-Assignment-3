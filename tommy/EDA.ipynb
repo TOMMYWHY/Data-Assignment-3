{
 "cells": [
  {
   "cell_type": "code",
   "execution_count": 22,
   "metadata": {},
   "outputs": [],
   "source": [
    "from surprise import SVD\n",
    "from surprise import Dataset\n",
    "from surprise.model_selection import cross_validate\n",
    "import pandas as pd\n",
    "from matplotlib import pyplot as plt\n",
    "\n"
   ]
  },
  {
   "cell_type": "code",
   "execution_count": null,
   "metadata": {},
   "outputs": [],
   "source": []
  },
  {
   "cell_type": "code",
   "execution_count": 114,
   "metadata": {},
   "outputs": [],
   "source": [
    "data = pd.read_json('./datasets/reviews_Video_Games_5.json', lines=True)\n"
   ]
  },
  {
   "cell_type": "markdown",
   "metadata": {},
   "source": [
    "This dataset storage structure is simple and records 231780 user reviews. The 'reviewerID' is the user ID, and the 'asin' is the item ID. The 'overall' is the user's score for the product."
   ]
  },
  {
   "cell_type": "code",
   "execution_count": 115,
   "metadata": {},
   "outputs": [
    {
     "name": "stdout",
     "output_type": "stream",
     "text": [
      "(231780, 9)\n"
     ]
    },
    {
     "data": {
      "text/html": [
       "<div>\n",
       "<style scoped>\n",
       "    .dataframe tbody tr th:only-of-type {\n",
       "        vertical-align: middle;\n",
       "    }\n",
       "\n",
       "    .dataframe tbody tr th {\n",
       "        vertical-align: top;\n",
       "    }\n",
       "\n",
       "    .dataframe thead th {\n",
       "        text-align: right;\n",
       "    }\n",
       "</style>\n",
       "<table border=\"1\" class=\"dataframe\">\n",
       "  <thead>\n",
       "    <tr style=\"text-align: right;\">\n",
       "      <th></th>\n",
       "      <th>reviewerID</th>\n",
       "      <th>asin</th>\n",
       "      <th>reviewerName</th>\n",
       "      <th>helpful</th>\n",
       "      <th>reviewText</th>\n",
       "      <th>overall</th>\n",
       "      <th>summary</th>\n",
       "      <th>unixReviewTime</th>\n",
       "      <th>reviewTime</th>\n",
       "    </tr>\n",
       "  </thead>\n",
       "  <tbody>\n",
       "    <tr>\n",
       "      <th>0</th>\n",
       "      <td>A2HD75EMZR8QLN</td>\n",
       "      <td>0700099867</td>\n",
       "      <td>123</td>\n",
       "      <td>[8, 12]</td>\n",
       "      <td>Installing the game was a struggle (because of...</td>\n",
       "      <td>1</td>\n",
       "      <td>Pay to unlock content? I don't think so.</td>\n",
       "      <td>1341792000</td>\n",
       "      <td>07 9, 2012</td>\n",
       "    </tr>\n",
       "    <tr>\n",
       "      <th>1</th>\n",
       "      <td>A3UR8NLLY1ZHCX</td>\n",
       "      <td>0700099867</td>\n",
       "      <td>Alejandro Henao \"Electronic Junky\"</td>\n",
       "      <td>[0, 0]</td>\n",
       "      <td>If you like rally cars get this game you will ...</td>\n",
       "      <td>4</td>\n",
       "      <td>Good rally game</td>\n",
       "      <td>1372550400</td>\n",
       "      <td>06 30, 2013</td>\n",
       "    </tr>\n",
       "    <tr>\n",
       "      <th>2</th>\n",
       "      <td>A1INA0F5CWW3J4</td>\n",
       "      <td>0700099867</td>\n",
       "      <td>Amazon Shopper \"Mr.Repsol\"</td>\n",
       "      <td>[0, 0]</td>\n",
       "      <td>1st shipment received a book instead of the ga...</td>\n",
       "      <td>1</td>\n",
       "      <td>Wrong key</td>\n",
       "      <td>1403913600</td>\n",
       "      <td>06 28, 2014</td>\n",
       "    </tr>\n",
       "  </tbody>\n",
       "</table>\n",
       "</div>"
      ],
      "text/plain": [
       "       reviewerID        asin                        reviewerName  helpful  \\\n",
       "0  A2HD75EMZR8QLN  0700099867                                 123  [8, 12]   \n",
       "1  A3UR8NLLY1ZHCX  0700099867  Alejandro Henao \"Electronic Junky\"   [0, 0]   \n",
       "2  A1INA0F5CWW3J4  0700099867          Amazon Shopper \"Mr.Repsol\"   [0, 0]   \n",
       "\n",
       "                                          reviewText  overall  \\\n",
       "0  Installing the game was a struggle (because of...        1   \n",
       "1  If you like rally cars get this game you will ...        4   \n",
       "2  1st shipment received a book instead of the ga...        1   \n",
       "\n",
       "                                    summary  unixReviewTime   reviewTime  \n",
       "0  Pay to unlock content? I don't think so.      1341792000   07 9, 2012  \n",
       "1                           Good rally game      1372550400  06 30, 2013  \n",
       "2                                 Wrong key      1403913600  06 28, 2014  "
      ]
     },
     "execution_count": 115,
     "metadata": {},
     "output_type": "execute_result"
    }
   ],
   "source": [
    "print(data.shape)\n",
    "data.head(3)\n"
   ]
  },
  {
   "cell_type": "code",
   "execution_count": null,
   "metadata": {},
   "outputs": [],
   "source": []
  },
  {
   "cell_type": "markdown",
   "metadata": {},
   "source": [
    "The data records a total of 24303 user evaluation behaviors, which included 10672 products. The evaluation score ranges from 1 to 5. \n",
    "The average user rating of the dataset is 4.08."
   ]
  },
  {
   "cell_type": "code",
   "execution_count": 116,
   "metadata": {},
   "outputs": [
    {
     "name": "stdout",
     "output_type": "stream",
     "text": [
      "users: 24303\n",
      "items: 10672\n",
      "mean: 4.086396582966606\n"
     ]
    }
   ],
   "source": [
    "print(\"users:\",len(data['reviewerID'].unique()))\n",
    "print(\"items:\",len(data['asin'].unique()))\n",
    "print(\"mean:\",data['overall'].mean())"
   ]
  },
  {
   "cell_type": "markdown",
   "metadata": {},
   "source": [
    "The bar chart shows that most users have given higher scores. It can be seen from here that users are satisfied with most products.\n"
   ]
  },
  {
   "cell_type": "code",
   "execution_count": 135,
   "metadata": {},
   "outputs": [
    {
     "name": "stderr",
     "output_type": "stream",
     "text": [
      "/Users/Tommy/opt/anaconda3/envs/python36/lib/python3.6/site-packages/pandas/plotting/_matplotlib/hist.py:309: MatplotlibDeprecationWarning: \n",
      "The 'normed' kwarg was deprecated in Matplotlib 2.1 and will be removed in 3.1. Use 'density' instead.\n",
      "  ax.hist(values, bins=bins, **kwds)\n"
     ]
    },
    {
     "data": {
      "text/plain": [
       "Text(0.5, 1.0, 'Rating scores')"
      ]
     },
     "execution_count": 135,
     "metadata": {},
     "output_type": "execute_result"
    },
    {
     "data": {
      "image/png": "[encoded data removed]",
      "text/plain": [
       "<Figure size 432x288 with 1 Axes>"
      ]
     },
     "metadata": {
      "needs_background": "light"
     },
     "output_type": "display_data"
    }
   ],
   "source": [
    "data['overall'].hist(bins = 10,histtype = 'bar',normed =True)\n",
    "plt.xlabel('scores') \n",
    "plt.title(\"Rating scores\")"
   ]
  },
  {
   "cell_type": "markdown",
   "metadata": {},
   "source": [
    "In order to further explore the situation of user praise, we selected the top 5 items with the most favorable comments from users. Among them, \"B00BGA9WK2\" received 2,855 users 5 points praise. Through the web crawling, we could know that the product is \"PlayStation 4 500GB Console\"."
   ]
  },
  {
   "cell_type": "code",
   "execution_count": 137,
   "metadata": {},
   "outputs": [
    {
     "data": {
      "text/html": [
       "<div>\n",
       "<style scoped>\n",
       "    .dataframe tbody tr th:only-of-type {\n",
       "        vertical-align: middle;\n",
       "    }\n",
       "\n",
       "    .dataframe tbody tr th {\n",
       "        vertical-align: top;\n",
       "    }\n",
       "\n",
       "    .dataframe thead th {\n",
       "        text-align: right;\n",
       "    }\n",
       "</style>\n",
       "<table border=\"1\" class=\"dataframe\">\n",
       "  <thead>\n",
       "    <tr style=\"text-align: right;\">\n",
       "      <th></th>\n",
       "      <th>overall</th>\n",
       "      <th>unixReviewTime</th>\n",
       "    </tr>\n",
       "    <tr>\n",
       "      <th>asin</th>\n",
       "      <th></th>\n",
       "      <th></th>\n",
       "    </tr>\n",
       "  </thead>\n",
       "  <tbody>\n",
       "    <tr>\n",
       "      <th>B00BGA9WK2</th>\n",
       "      <td>2855</td>\n",
       "      <td>793119600000</td>\n",
       "    </tr>\n",
       "    <tr>\n",
       "      <th>B0015AARJI</th>\n",
       "      <td>2515</td>\n",
       "      <td>672382598400</td>\n",
       "    </tr>\n",
       "    <tr>\n",
       "      <th>B007CM0K86</th>\n",
       "      <td>2035</td>\n",
       "      <td>561753273600</td>\n",
       "    </tr>\n",
       "    <tr>\n",
       "      <th>B002VBWIP6</th>\n",
       "      <td>1995</td>\n",
       "      <td>544925404800</td>\n",
       "    </tr>\n",
       "    <tr>\n",
       "      <th>B000B9RI14</th>\n",
       "      <td>1865</td>\n",
       "      <td>502394745600</td>\n",
       "    </tr>\n",
       "  </tbody>\n",
       "</table>\n",
       "</div>"
      ],
      "text/plain": [
       "            overall  unixReviewTime\n",
       "asin                               \n",
       "B00BGA9WK2     2855    793119600000\n",
       "B0015AARJI     2515    672382598400\n",
       "B007CM0K86     2035    561753273600\n",
       "B002VBWIP6     1995    544925404800\n",
       "B000B9RI14     1865    502394745600"
      ]
     },
     "execution_count": 137,
     "metadata": {},
     "output_type": "execute_result"
    },
    {
     "data": {
      "image/png": "[encoded data removed]",
      "text/plain": [
       "<Figure size 432x288 with 1 Axes>"
      ]
     },
     "metadata": {
      "needs_background": "light"
     },
     "output_type": "display_data"
    }
   ],
   "source": [
    "top_5_items = data[data['overall']==5].groupby('asin').sum().sort_values(by=\"overall\",ascending=False).head()\n",
    "# top_5_items.plot()\n",
    "top_5_items['overall'].plot.bar()\n",
    "plt.ylabel(\"amount\")\n",
    "plt.xlabel(\"Item name\" )\n",
    "plt.xticks(rotation=45)\n",
    "plt.title(\"TOP 5 high rating items\")\n",
    "(top_5_items)\n"
   ]
  },
  {
   "cell_type": "markdown",
   "metadata": {},
   "source": [
    "We also try to analyze the 5 products with the highest scores of 1 that users rated as blow. \"B000FKBCX4\" got 1 point for the score by  151 users. Through the web crawling, we could know that the product is a game named \"Spore - PC/Mac.\""
   ]
  },
  {
   "cell_type": "code",
   "execution_count": 138,
   "metadata": {},
   "outputs": [
    {
     "data": {
      "text/html": [
       "<div>\n",
       "<style scoped>\n",
       "    .dataframe tbody tr th:only-of-type {\n",
       "        vertical-align: middle;\n",
       "    }\n",
       "\n",
       "    .dataframe tbody tr th {\n",
       "        vertical-align: top;\n",
       "    }\n",
       "\n",
       "    .dataframe thead th {\n",
       "        text-align: right;\n",
       "    }\n",
       "</style>\n",
       "<table border=\"1\" class=\"dataframe\">\n",
       "  <thead>\n",
       "    <tr style=\"text-align: right;\">\n",
       "      <th></th>\n",
       "      <th>overall</th>\n",
       "      <th>unixReviewTime</th>\n",
       "    </tr>\n",
       "    <tr>\n",
       "      <th>asin</th>\n",
       "      <th></th>\n",
       "      <th></th>\n",
       "    </tr>\n",
       "  </thead>\n",
       "  <tbody>\n",
       "    <tr>\n",
       "      <th>B000FKBCX4</th>\n",
       "      <td>151</td>\n",
       "      <td>184973328000</td>\n",
       "    </tr>\n",
       "    <tr>\n",
       "      <th>B00178630A</th>\n",
       "      <td>141</td>\n",
       "      <td>189243388800</td>\n",
       "    </tr>\n",
       "    <tr>\n",
       "      <th>B007FTE2VW</th>\n",
       "      <td>125</td>\n",
       "      <td>170573126400</td>\n",
       "    </tr>\n",
       "    <tr>\n",
       "      <th>B007VTVRFA</th>\n",
       "      <td>104</td>\n",
       "      <td>141888672000</td>\n",
       "    </tr>\n",
       "    <tr>\n",
       "      <th>B00BGA9WK2</th>\n",
       "      <td>64</td>\n",
       "      <td>88793971200</td>\n",
       "    </tr>\n",
       "  </tbody>\n",
       "</table>\n",
       "</div>"
      ],
      "text/plain": [
       "            overall  unixReviewTime\n",
       "asin                               \n",
       "B000FKBCX4      151    184973328000\n",
       "B00178630A      141    189243388800\n",
       "B007FTE2VW      125    170573126400\n",
       "B007VTVRFA      104    141888672000\n",
       "B00BGA9WK2       64     88793971200"
      ]
     },
     "execution_count": 138,
     "metadata": {},
     "output_type": "execute_result"
    },
    {
     "data": {
      "image/png": "[encoded data removed]",
      "text/plain": [
       "<Figure size 432x288 with 1 Axes>"
      ]
     },
     "metadata": {
      "needs_background": "light"
     },
     "output_type": "display_data"
    }
   ],
   "source": [
    "top_5_items = data[data['overall']==1].groupby('asin').sum().sort_values(by=\"overall\",ascending=False).head()\n",
    "# top_5_items.plot()\n",
    "top_5_items['overall'].plot.bar()\n",
    "plt.ylabel(\"amount\")\n",
    "plt.xlabel(\"Item name\" )\n",
    "plt.xticks(rotation=45)\n",
    "plt.title(\"TOP 5 low rating items\")\n",
    "(top_5_items)\n"
   ]
  },
  {
   "cell_type": "markdown",
   "metadata": {},
   "source": [
    "Before that, we analyzed the product score. Furthermore,  we want to explore the behavior for evaluation. Some users rate and evaluate multiple products, and we make such users active users. Active users have tried different products to get different reviews, so their reviews are precious. Of course, it also contains a lot of personal preference information. The five users with the most evaluations are as follows."
   ]
  },
  {
   "cell_type": "code",
   "execution_count": 122,
   "metadata": {},
   "outputs": [
    {
     "data": {
      "text/plain": [
       "A3V6Z4RCDGRC44    773\n",
       "AJKWF4W7QD4NS     635\n",
       "A3W4D8XOGLWUN5    456\n",
       "A2QHS1ZCIQOL7E    450\n",
       "A29BQ6B90Y1R5F    404\n",
       "Name: reviewerID, dtype: int64"
      ]
     },
     "execution_count": 122,
     "metadata": {},
     "output_type": "execute_result"
    }
   ],
   "source": [
    "data['reviewerID'].value_counts().head()"
   ]
  },
  {
   "cell_type": "markdown",
   "metadata": {},
   "source": [
    "Here we only select the most active users as an example. This active user rated it 773 times in this dataset. Moreover, there is no repeated evaluation of a product."
   ]
  },
  {
   "cell_type": "code",
   "execution_count": 144,
   "metadata": {},
   "outputs": [
    {
     "name": "stdout",
     "output_type": "stream",
     "text": [
      "False\n"
     ]
    },
    {
     "data": {
      "text/html": [
       "<div>\n",
       "<style scoped>\n",
       "    .dataframe tbody tr th:only-of-type {\n",
       "        vertical-align: middle;\n",
       "    }\n",
       "\n",
       "    .dataframe tbody tr th {\n",
       "        vertical-align: top;\n",
       "    }\n",
       "\n",
       "    .dataframe thead th {\n",
       "        text-align: right;\n",
       "    }\n",
       "</style>\n",
       "<table border=\"1\" class=\"dataframe\">\n",
       "  <thead>\n",
       "    <tr style=\"text-align: right;\">\n",
       "      <th></th>\n",
       "      <th>reviewerID</th>\n",
       "      <th>asin</th>\n",
       "      <th>reviewerName</th>\n",
       "      <th>helpful</th>\n",
       "      <th>reviewText</th>\n",
       "      <th>overall</th>\n",
       "      <th>summary</th>\n",
       "      <th>unixReviewTime</th>\n",
       "      <th>reviewTime</th>\n",
       "    </tr>\n",
       "  </thead>\n",
       "  <tbody>\n",
       "    <tr>\n",
       "      <th>1400</th>\n",
       "      <td>A3V6Z4RCDGRC44</td>\n",
       "      <td>B00000INR2</td>\n",
       "      <td>Lisa Shea \"be the change you wish to see in t...</td>\n",
       "      <td>[111, 112]</td>\n",
       "      <td>The expansion pack beefs up the graphics capab...</td>\n",
       "      <td>5</td>\n",
       "      <td>A must-have for any serious Nintendo player</td>\n",
       "      <td>972950400</td>\n",
       "      <td>10 31, 2000</td>\n",
       "    </tr>\n",
       "    <tr>\n",
       "      <th>2051</th>\n",
       "      <td>A3V6Z4RCDGRC44</td>\n",
       "      <td>B00000JRSB</td>\n",
       "      <td>Lisa Shea \"be the change you wish to see in t...</td>\n",
       "      <td>[18, 26]</td>\n",
       "      <td>Final Fantasy VII was the first release for th...</td>\n",
       "      <td>5</td>\n",
       "      <td>Still great after all these years</td>\n",
       "      <td>1050710400</td>\n",
       "      <td>04 19, 2003</td>\n",
       "    </tr>\n",
       "    <tr>\n",
       "      <th>2244</th>\n",
       "      <td>A3V6Z4RCDGRC44</td>\n",
       "      <td>B00000K125</td>\n",
       "      <td>Lisa Shea \"be the change you wish to see in t...</td>\n",
       "      <td>[1, 1]</td>\n",
       "      <td>Soul Calibur is the classic version of the arc...</td>\n",
       "      <td>5</td>\n",
       "      <td>Still fun after all these years</td>\n",
       "      <td>1103414400</td>\n",
       "      <td>12 19, 2004</td>\n",
       "    </tr>\n",
       "  </tbody>\n",
       "</table>\n",
       "</div>"
      ],
      "text/plain": [
       "          reviewerID        asin  \\\n",
       "1400  A3V6Z4RCDGRC44  B00000INR2   \n",
       "2051  A3V6Z4RCDGRC44  B00000JRSB   \n",
       "2244  A3V6Z4RCDGRC44  B00000K125   \n",
       "\n",
       "                                          reviewerName     helpful  \\\n",
       "1400  Lisa Shea \"be the change you wish to see in t...  [111, 112]   \n",
       "2051  Lisa Shea \"be the change you wish to see in t...    [18, 26]   \n",
       "2244  Lisa Shea \"be the change you wish to see in t...      [1, 1]   \n",
       "\n",
       "                                             reviewText  overall  \\\n",
       "1400  The expansion pack beefs up the graphics capab...        5   \n",
       "2051  Final Fantasy VII was the first release for th...        5   \n",
       "2244  Soul Calibur is the classic version of the arc...        5   \n",
       "\n",
       "                                          summary  unixReviewTime   reviewTime  \n",
       "1400  A must-have for any serious Nintendo player       972950400  10 31, 2000  \n",
       "2051            Still great after all these years      1050710400  04 19, 2003  \n",
       "2244              Still fun after all these years      1103414400  12 19, 2004  "
      ]
     },
     "execution_count": 144,
     "metadata": {},
     "output_type": "execute_result"
    }
   ],
   "source": [
    "active_user= data[data['reviewerID']==\"A3V6Z4RCDGRC44\"]\n",
    "print(active_user['asin'].duplicated().all())\n",
    "active_user.head(3)"
   ]
  },
  {
   "cell_type": "markdown",
   "metadata": {},
   "source": [
    "The figure below shows the distribution of the scores of this active user. It can be seen that the user compares 773 products horizontally, and most products give 4-5 points. The information of these active users is very valuable for our future analysis."
   ]
  },
  {
   "cell_type": "code",
   "execution_count": 145,
   "metadata": {},
   "outputs": [
    {
     "name": "stderr",
     "output_type": "stream",
     "text": [
      "/Users/Tommy/opt/anaconda3/envs/python36/lib/python3.6/site-packages/pandas/plotting/_matplotlib/hist.py:309: MatplotlibDeprecationWarning: \n",
      "The 'normed' kwarg was deprecated in Matplotlib 2.1 and will be removed in 3.1. Use 'density' instead.\n",
      "  ax.hist(values, bins=bins, **kwds)\n"
     ]
    },
    {
     "data": {
      "text/plain": [
       "Text(0.5, 1.0, 'Most active user rating scores')"
      ]
     },
     "execution_count": 145,
     "metadata": {},
     "output_type": "execute_result"
    },
    {
     "data": {
      "image/png": "[encoded data removed]",
      "text/plain": [
       "<Figure size 432x288 with 1 Axes>"
      ]
     },
     "metadata": {
      "needs_background": "light"
     },
     "output_type": "display_data"
    }
   ],
   "source": [
    "active_user['overall'].hist(bins = 10,histtype = 'bar',normed =True)\n",
    "plt.xlabel('scores') \n",
    "plt.title(\"Most active user rating scores\")"
   ]
  },
  {
   "cell_type": "code",
   "execution_count": null,
   "metadata": {},
   "outputs": [],
   "source": []
  },
  {
   "cell_type": "code",
   "execution_count": null,
   "metadata": {},
   "outputs": [],
   "source": []
  },
  {
   "cell_type": "code",
   "execution_count": null,
   "metadata": {},
   "outputs": [],
   "source": []
  },
  {
   "cell_type": "code",
   "execution_count": null,
   "metadata": {},
   "outputs": [],
   "source": []
  },
  {
   "cell_type": "code",
   "execution_count": null,
   "metadata": {},
   "outputs": [],
   "source": []
  },
  {
   "cell_type": "code",
   "execution_count": null,
   "metadata": {},
   "outputs": [],
   "source": []
  },
  {
   "cell_type": "code",
   "execution_count": null,
   "metadata": {},
   "outputs": [],
   "source": []
  },
  {
   "cell_type": "code",
   "execution_count": null,
   "metadata": {},
   "outputs": [],
   "source": []
  }
 ],
 "metadata": {
  "kernelspec": {
   "display_name": "Python 3",
   "language": "python",
   "name": "python3"
  },
  "language_info": {
   "codemirror_mode": {
    "name": "ipython",
    "version": 3
   },
   "file_extension": ".py",
   "mimetype": "text/x-python",
   "name": "python",
   "nbconvert_exporter": "python",
   "pygments_lexer": "ipython3",
   "version": "3.6.10"
  }
 },
 "nbformat": 4,
 "nbformat_minor": 4
}
