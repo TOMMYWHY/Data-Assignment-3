{
 "cells": [
  {
   "cell_type": "code",
   "execution_count": 2,
   "metadata": {},
   "outputs": [
    {
     "name": "stdout",
     "output_type": "stream",
     "text": [
      "Collecting scikit-surprise\n",
      "  Downloading https://files.pythonhosted.org/packages/f5/da/b5700d96495fb4f092be497f02492768a3d96a3f4fa2ae7dea46d4081cfa/scikit-surprise-1.1.0.tar.gz (6.4MB)\n",
      "Requirement already satisfied: joblib>=0.11 in d:\\anaconda3\\lib\\site-packages (from scikit-surprise) (0.13.2)\n",
      "Requirement already satisfied: numpy>=1.11.2 in d:\\anaconda3\\lib\\site-packages (from scikit-surprise) (1.16.5)\n",
      "Requirement already satisfied: scipy>=1.0.0 in d:\\anaconda3\\lib\\site-packages (from scikit-surprise) (1.3.1)\n",
      "Requirement already satisfied: six>=1.10.0 in d:\\anaconda3\\lib\\site-packages (from scikit-surprise) (1.12.0)\n",
      "Building wheels for collected packages: scikit-surprise\n",
      "  Building wheel for scikit-surprise (setup.py): started\n",
      "  Building wheel for scikit-surprise (setup.py): finished with status 'done'\n",
      "  Created wheel for scikit-surprise: filename=scikit_surprise-1.1.0-cp37-cp37m-win_amd64.whl size=759979 sha256=32329722aa58c304d2e92992e3e365caca33ac834d1930a1789da79fd0cb5a30\n",
      "  Stored in directory: C:\\Users\\Vincent\\AppData\\Local\\pip\\Cache\\wheels\\cc\\fa\\8c\\16c93fccce688ae1bde7d979ff102f7bee980d9cfeb8641bcf\n",
      "Successfully built scikit-surprise\n",
      "Installing collected packages: scikit-surprise\n",
      "Successfully installed scikit-surprise-1.1.0\n",
      "Note: you may need to restart the kernel to use updated packages.\n"
     ]
    }
   ],
   "source": [
    "pip install scikit-surprise"
   ]
  },
  {
   "cell_type": "code",
   "execution_count": 5,
   "metadata": {},
   "outputs": [
    {
     "name": "stdout",
     "output_type": "stream",
     "text": [
      "Evaluating RMSE, MAE of algorithm SVD on 5 split(s).\n",
      "\n",
      "                  Fold 1  Fold 2  Fold 3  Fold 4  Fold 5  Mean    Std     \n",
      "RMSE (testset)    0.9335  0.9450  0.9335  0.9363  0.9333  0.9363  0.0045  \n",
      "MAE (testset)     0.7334  0.7439  0.7389  0.7376  0.7353  0.7378  0.0036  \n",
      "Fit time          4.28    4.70    4.40    4.47    4.38    4.45    0.14    \n",
      "Test time         0.14    0.13    0.13    0.13    0.14    0.13    0.00    \n"
     ]
    },
    {
     "data": {
      "text/plain": [
       "{'test_rmse': array([0.93347233, 0.94501474, 0.93351761, 0.93630529, 0.93326948]),\n",
       " 'test_mae': array([0.73344288, 0.74394596, 0.73887615, 0.73757065, 0.73527349]),\n",
       " 'fit_time': (4.28009819984436,\n",
       "  4.701990604400635,\n",
       "  4.399973392486572,\n",
       "  4.472084283828735,\n",
       "  4.383638620376587),\n",
       " 'test_time': (0.14000153541564941,\n",
       "  0.127943754196167,\n",
       "  0.13181090354919434,\n",
       "  0.13412094116210938,\n",
       "  0.13644146919250488)}"
      ]
     },
     "execution_count": 5,
     "metadata": {},
     "output_type": "execute_result"
    }
   ],
   "source": [
    "from surprise import SVD\n",
    "from surprise import Dataset\n",
    "from surprise.model_selection import cross_validate\n",
    "\n",
    "\n",
    "# Load the movielens-100k dataset (download it if needed),\n",
    "data = Dataset.load_builtin('ml-100k')\n",
    "\n",
    "# We'll use the famous SVD algorithm.\n",
    "algo = SVD()\n",
    "\n",
    "# Run 5-fold cross-validation and print results\n",
    "cross_validate(algo, data, measures=['RMSE', 'MAE'], cv=5, verbose=True)"
   ]
  },
  {
   "cell_type": "code",
   "execution_count": 2,
   "metadata": {},
   "outputs": [],
   "source": [
    "import pandas as pd\n",
    "\n",
    "data = pd.read_json('./Video_Games_5/Video_Games_5.json', lines=True)"
   ]
  },
  {
   "cell_type": "code",
   "execution_count": 10,
   "metadata": {},
   "outputs": [],
   "source": [
    "data[0:len(data):100].to_csv('test.csv', encoding='utf-8', index=False)"
   ]
  },
  {
   "cell_type": "markdown",
   "metadata": {},
   "source": [
    "\n",
    "    reviewerID - ID of the reviewer, e.g. A2SUAM1J3GNN3B\n",
    "    asin - ID of the product, e.g. 0000013714\n",
    "    reviewerName - name of the reviewer\n",
    "    helpful - helpfulness rating of the review, e.g. 2/3\n",
    "    reviewText - text of the review\n",
    "    overall - rating of the product\n",
    "    summary - summary of the review\n",
    "    unixReviewTime - time of the review (unix time)\n",
    "    reviewTime - time of the review (raw)\n"
   ]
  },
  {
   "cell_type": "code",
   "execution_count": 22,
   "metadata": {},
   "outputs": [],
   "source": [
    "temp = pd.read_csv('test.csv')"
   ]
  },
  {
   "cell_type": "code",
   "execution_count": 30,
   "metadata": {},
   "outputs": [],
   "source": [
    "test['itemID'] = temp['asin'] \n",
    "test['rating'] = temp['overall'] \n",
    "test['userID'] = temp['reviewerID'] \n",
    "test['timestamp'] = temp['unixReviewTime'] "
   ]
  },
  {
   "cell_type": "code",
   "execution_count": 31,
   "metadata": {},
   "outputs": [],
   "source": [
    "test.drop(test.columns[0:12], axis=1).to_csv('testForInput.csv', encoding='utf-8', index=False)"
   ]
  },
  {
   "cell_type": "code",
   "execution_count": 39,
   "metadata": {},
   "outputs": [
    {
     "data": {
      "text/plain": [
       "{'test_rmse': array([1.52685225, 1.53841589]),\n",
       " 'test_mae': array([1.14609407, 1.15563845]),\n",
       " 'fit_time': (0.010149240493774414, 0.010271787643432617),\n",
       " 'test_time': (0.019611120223999023, 0.010095357894897461)}"
      ]
     },
     "execution_count": 39,
     "metadata": {},
     "output_type": "execute_result"
    }
   ],
   "source": [
    "import pandas as pd\n",
    "from surprise import SVD\n",
    "from surprise import NormalPredictor\n",
    "from surprise import Dataset\n",
    "from surprise import Reader\n",
    "from surprise.model_selection import cross_validate\n",
    "\n",
    "\n",
    "df = pd.read_csv('testForInput.csv')\n",
    "\n",
    "# A reader is still needed but only the rating_scale param is requiered.\n",
    "reader = Reader(rating_scale=(1, 5))\n",
    "\n",
    "# The columns must correspond to user id, item id and ratings (in that order).\n",
    "data = Dataset.load_from_df(df[['userID', 'itemID', 'rating']], reader)\n",
    "\n",
    "# We can now use this dataset as we please, e.g. calling cross_validate\n",
    "cross_validate(NormalPredictor(), data, cv=2)"
   ]
  },
  {
   "cell_type": "code",
   "execution_count": 40,
   "metadata": {},
   "outputs": [
    {
     "name": "stdout",
     "output_type": "stream",
     "text": [
      "Evaluating RMSE, MAE of algorithm SVD on 5 split(s).\n",
      "\n",
      "                  Fold 1  Fold 2  Fold 3  Fold 4  Fold 5  Mean    Std     \n",
      "RMSE (testset)    1.1728  1.1893  1.1549  1.2753  1.2123  1.2009  0.0417  \n",
      "MAE (testset)     0.9357  0.9382  0.9380  0.9977  0.9633  0.9546  0.0238  \n",
      "Fit time          0.25    0.23    0.24    0.25    0.23    0.24    0.01    \n",
      "Test time         0.00    0.00    0.00    0.01    0.00    0.00    0.00    \n"
     ]
    },
    {
     "data": {
      "text/plain": [
       "{'test_rmse': array([1.17284488, 1.18928656, 1.15491715, 1.27525522, 1.21226377]),\n",
       " 'test_mae': array([0.9357265 , 0.9382351 , 0.93802834, 0.99765669, 0.96333863]),\n",
       " 'fit_time': (0.24994301795959473,\n",
       "  0.23237371444702148,\n",
       "  0.24278593063354492,\n",
       "  0.25226473808288574,\n",
       "  0.2300252914428711),\n",
       " 'test_time': (0.0, 0.0037348270416259766, 0.0, 0.005034208297729492, 0.0)}"
      ]
     },
     "execution_count": 40,
     "metadata": {},
     "output_type": "execute_result"
    }
   ],
   "source": [
    "algo = SVD()\n",
    "cross_validate(algo, data, measures=['RMSE', 'MAE'], cv=5, verbose=True)"
   ]
  },
  {
   "cell_type": "code",
   "execution_count": null,
   "metadata": {},
   "outputs": [],
   "source": []
  }
 ],
 "metadata": {
  "kernelspec": {
   "display_name": "Python 3",
   "language": "python",
   "name": "python3"
  },
  "language_info": {
   "codemirror_mode": {
    "name": "ipython",
    "version": 3
   },
   "file_extension": ".py",
   "mimetype": "text/x-python",
   "name": "python",
   "nbconvert_exporter": "python",
   "pygments_lexer": "ipython3",
   "version": "3.7.4"
  }
 },
 "nbformat": 4,
 "nbformat_minor": 2
}
