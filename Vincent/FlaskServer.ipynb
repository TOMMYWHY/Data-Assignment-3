{
 "cells": [
  {
   "cell_type": "code",
   "execution_count": 1,
   "metadata": {},
   "outputs": [],
   "source": [
    "from collections import defaultdict\n",
    "from surprise import Dataset\n",
    "import pandas as pd\n",
    "from surprise import SVD\n",
    "from surprise import NormalPredictor\n",
    "from surprise import Dataset\n",
    "from surprise import Reader\n",
    "from surprise.model_selection import cross_validate\n",
    "import numpy as np\n",
    "from surprise import dump\n",
    "import os\n",
    "from surprise.model_selection import KFold\n",
    "import io  # needed because of weird encoding of u.item file\n",
    "\n",
    "from surprise import KNNBaseline\n",
    "from surprise import get_dataset_dir\n",
    "\n"
   ]
  },
  {
   "cell_type": "code",
   "execution_count": 2,
   "metadata": {},
   "outputs": [],
   "source": [
    "\n",
    "def precision_recall_at_k(predictions, k=10, threshold=3.5):\n",
    "    '''Return precision and recall at k metrics for each user.'''\n",
    "\n",
    "    # First map the predictions to each user.\n",
    "    user_est_true = defaultdict(list)\n",
    "    for uid, _, true_r, est, _ in predictions:\n",
    "        user_est_true[uid].append((est, true_r))\n",
    "\n",
    "    precisions = dict()\n",
    "    recalls = dict()\n",
    "    for uid, user_ratings in user_est_true.items():\n",
    "\n",
    "        # Sort user ratings by estimated value\n",
    "        user_ratings.sort(key=lambda x: x[0], reverse=True)\n",
    "\n",
    "        # Number of relevant items\n",
    "        n_rel = sum((true_r >= threshold) for (_, true_r) in user_ratings)\n",
    "\n",
    "        # Number of recommended items in top k\n",
    "        n_rec_k = sum((est >= threshold) for (est, _) in user_ratings[:k])\n",
    "\n",
    "        # Number of relevant and recommended items in top k\n",
    "        n_rel_and_rec_k = sum(((true_r >= threshold) and (est >= threshold))\n",
    "                              for (est, true_r) in user_ratings[:k])\n",
    "\n",
    "        # Precision@K: Proportion of recommended items that are relevant\n",
    "        precisions[uid] = n_rel_and_rec_k / n_rec_k if n_rec_k != 0 else 1\n",
    "\n",
    "        # Recall@K: Proportion of relevant items that are recommended\n",
    "        recalls[uid] = n_rel_and_rec_k / n_rel if n_rel != 0 else 1\n",
    "\n",
    "    return precisions, recalls\n",
    "\n",
    "def get_top_n(predictions, n=10):\n",
    "    '''Return the top-N recommendation for each user from a set of predictions.\n",
    "\n",
    "    Args:\n",
    "        predictions(list of Prediction objects): The list of predictions, as\n",
    "            returned by the test method of an algorithm.\n",
    "        n(int): The number of recommendation to output for each user. Default\n",
    "            is 10.\n",
    "\n",
    "    Returns:\n",
    "    A dict where keys are user (raw) ids and values are lists of tuples:\n",
    "        [(raw item id, rating estimation), ...] of size n.\n",
    "    '''\n",
    "\n",
    "    # First map the predictions to each user.\n",
    "    top_n = defaultdict(list)\n",
    "    for uid, iid, true_r, est, _ in predictions:\n",
    "        top_n[uid].append((iid, est))\n",
    "\n",
    "    # Then sort the predictions for each user and retrieve the k highest ones.\n",
    "    for uid, user_ratings in top_n.items():\n",
    "        user_ratings.sort(key=lambda x: x[1], reverse=True)\n",
    "        top_n[uid] = user_ratings[:n]\n",
    "\n",
    "    return top_n\n",
    "\n",
    "def train_and_save_prediction_model (file_to_save) :\n",
    "    #train and save model\n",
    "\n",
    "    df = pd.read_csv('testForInput.csv')\n",
    "    # A reader is still needed but only the rating_scale param is requiered.\n",
    "    reader = Reader(rating_scale=(1, 5))\n",
    "\n",
    "    # The columns must correspond to user id, item id and ratings (in that order).\n",
    "    data = Dataset.load_from_df(df[['userID', 'itemID', 'rating']], reader)\n",
    "    trainset = data.build_full_trainset()\n",
    "    #train data with algorithm\n",
    "    algo = SVD()\n",
    "    #cross_validate(algo, data, measures=['RMSE', 'MAE'], cv=5, verbose=True)\n",
    "    algo.fit(trainset)\n",
    "    # Dump algorithm and reload it.\n",
    "    file_name = os.path.expanduser(file_to_save)\n",
    "    dump.dump(file_name, algo=algo)\n",
    "\n",
    "def train_and_save_similarity_model(file_to_save):\n",
    "    df = pd.read_csv('testForInput.csv')\n",
    "    # A reader is still needed but only the rating_scale param is requiered.\n",
    "    reader = Reader(rating_scale=(1, 5))\n",
    "\n",
    "    # The columns must correspond to user id, item id and ratings (in that order).\n",
    "    data = Dataset.load_from_df(df[['userID', 'itemID', 'rating']], reader)\n",
    "    trainset = data.build_full_trainset()\n",
    "    sim_options = {'name': 'cosine', 'user_based': True} # or item based\n",
    "    algo = KNNBaseline(sim_options=sim_options)\n",
    "    algo.fit(trainset)\n",
    "    \n",
    "    # Dump algorithm and reload it.\n",
    "    file_name = os.path.expanduser(file_to_save)\n",
    "    dump.dump(file_name, algo=algo)\n",
    "    \n",
    "    \n",
    "    \n",
    "    \n",
    "def load_model_from_disk(file_to_load):\n",
    "    file_name = os.path.expanduser(file_to_load) # 'SVD_dump_file'\n",
    "    _, loaded_algo = dump.load(file_name)\n",
    "    return loaded_algo"
   ]
  },
  {
   "cell_type": "code",
   "execution_count": 3,
   "metadata": {},
   "outputs": [],
   "source": [
    "train_and_save_prediction_model ('SVD_dump_file')"
   ]
  },
  {
   "cell_type": "code",
   "execution_count": 4,
   "metadata": {},
   "outputs": [
    {
     "name": "stdout",
     "output_type": "stream",
     "text": [
      "Estimating biases using als...\n",
      "Computing the cosine similarity matrix...\n",
      "Done computing similarity matrix.\n"
     ]
    }
   ],
   "source": [
    "train_and_save_similarity_model('KNNbaseline_dump_file')"
   ]
  },
  {
   "cell_type": "code",
   "execution_count": 3,
   "metadata": {},
   "outputs": [],
   "source": [
    "prediction_algo = load_model_from_disk('SVD_dump_file')"
   ]
  },
  {
   "cell_type": "code",
   "execution_count": 4,
   "metadata": {},
   "outputs": [],
   "source": [
    "knn_algo = load_model_from_disk('KNNbaseline_dump_file')"
   ]
  },
  {
   "cell_type": "code",
   "execution_count": null,
   "metadata": {},
   "outputs": [
    {
     "name": "stdout",
     "output_type": "stream",
     "text": [
      " * Serving Flask app \"__main__\" (lazy loading)\n",
      " * Environment: production\n",
      "   WARNING: This is a development server. Do not use it in a production deployment.\n",
      "   Use a production WSGI server instead.\n",
      " * Debug mode: off\n"
     ]
    },
    {
     "name": "stderr",
     "output_type": "stream",
     "text": [
      " * Running on http://127.0.0.1:5000/ (Press CTRL+C to quit)\n",
      "127.0.0.1 - - [18/Jun/2020 17:25:54] \"GET / HTTP/1.1\" 404 -\n",
      "127.0.0.1 - - [18/Jun/2020 17:26:03] \"GET /knn/ALOXOO497B4LH HTTP/1.1\" 200 -\n"
     ]
    }
   ],
   "source": [
    "from flask import Flask,Response,make_response\n",
    "app = Flask(__name__)\n",
    "df = pd.read_csv('testForInput.csv')\n",
    "#'ALOXOO497B4LH'\n",
    "@app.route('/topN/<user_name>') # /review/\n",
    "def get_TopN_items_prediction(user_name):\n",
    "    \n",
    "    test = df[df['userID'] == user_name].drop(df.columns[3], axis=1)\n",
    "    columnsTitles=[\"userID\",\"itemID\",\"rating\"]\n",
    "    test=test.reindex(columns=columnsTitles)\n",
    "    predictions = prediction_algo.test(np.array(test))\n",
    "\n",
    "    top_n = get_top_n(predictions, n=10)\n",
    "    ret = []\n",
    "    # Print the recommended items for each user\n",
    "    for uid, user_ratings in top_n.items():\n",
    "        ret.append ( (uid, [iid for (iid, _) in user_ratings]) )\n",
    "    \n",
    "    res_data = {\n",
    "        \"username\": ret[0][0],\n",
    "        \"items\": ret[0][1]\n",
    "        }\n",
    "#     return jsonify(dict_data)\n",
    "    \n",
    "    resp = make_response(res_data)\n",
    "    resp.headers['Access-Control-Allow-Origin'] = '*'\n",
    "    \n",
    "    return resp,200\n",
    "\n",
    "@app.route('/knn/<user_name>') \n",
    "def get_k_nearest_neighbour_by_itme (user_name):\n",
    "    \n",
    "    i = 0 \n",
    "    for item in df['userID'].unique():\n",
    "        if item == user_name:\n",
    "            break\n",
    "        i += 1\n",
    "        \n",
    "    toy_k_neighbors = knn_algo.get_neighbors(i, k=10)\n",
    "#     res_data = ','.join(str(e) for e in toy_k_neighbors)\n",
    "    items = []\n",
    "    for e in toy_k_neighbors:\n",
    "        items.append(df.iloc[int(e)]['itemID'])\n",
    "    res_data ={\n",
    "        \"items\":items\n",
    "    }\n",
    "    resp = make_response(res_data)\n",
    "    resp.headers['Access-Control-Allow-Origin'] = '*'\n",
    "    return resp,200\n",
    "\n",
    "#     return ','.join(str(e) for e in toy_k_neighbors)\n",
    "    \n",
    "    \n",
    "\n",
    "\n",
    "if __name__ == '__main__':\n",
    "    app.run()"
   ]
  },
  {
   "cell_type": "code",
   "execution_count": 9,
   "metadata": {},
   "outputs": [
    {
     "data": {
      "text/plain": [
       "3879"
      ]
     },
     "execution_count": 9,
     "metadata": {},
     "output_type": "execute_result"
    }
   ],
   "source": [
    "df = pd.read_csv('testForInput.csv')\n",
    "des_user_name = df[df['userID'] == 'ALOXOO497B4LH'].drop(df.columns[3], axis=1)\n",
    "\n",
    "\n",
    "des_user_name.index[0]"
   ]
  },
  {
   "cell_type": "code",
   "execution_count": 3,
   "metadata": {},
   "outputs": [],
   "source": [
    "df = pd.read_csv('testForInput.csv')\n",
    "# A reader is still needed but only the rating_scale param is requiered.\n",
    "reader = Reader(rating_scale=(1, 5))\n",
    "\n",
    "# The columns must correspond to user id, item id and ratings (in that order).\n",
    "data = Dataset.load_from_df(df[['userID', 'itemID', 'rating']], reader)\n",
    "trainset = data.build_full_trainset()"
   ]
  },
  {
   "cell_type": "code",
   "execution_count": 6,
   "metadata": {},
   "outputs": [
    {
     "data": {
      "text/html": [
       "<div>\n",
       "<style scoped>\n",
       "    .dataframe tbody tr th:only-of-type {\n",
       "        vertical-align: middle;\n",
       "    }\n",
       "\n",
       "    .dataframe tbody tr th {\n",
       "        vertical-align: top;\n",
       "    }\n",
       "\n",
       "    .dataframe thead th {\n",
       "        text-align: right;\n",
       "    }\n",
       "</style>\n",
       "<table border=\"1\" class=\"dataframe\">\n",
       "  <thead>\n",
       "    <tr style=\"text-align: right;\">\n",
       "      <th></th>\n",
       "      <th>itemID</th>\n",
       "      <th>rating</th>\n",
       "      <th>userID</th>\n",
       "    </tr>\n",
       "  </thead>\n",
       "  <tbody>\n",
       "    <tr>\n",
       "      <td>3879</td>\n",
       "      <td>B00RUZPKRQ</td>\n",
       "      <td>5</td>\n",
       "      <td>ALOXOO497B4LH</td>\n",
       "    </tr>\n",
       "    <tr>\n",
       "      <td>4278</td>\n",
       "      <td>B0186D1TYS</td>\n",
       "      <td>5</td>\n",
       "      <td>ALOXOO497B4LH</td>\n",
       "    </tr>\n",
       "    <tr>\n",
       "      <td>4972</td>\n",
       "      <td>B01FWKKVTM</td>\n",
       "      <td>5</td>\n",
       "      <td>ALOXOO497B4LH</td>\n",
       "    </tr>\n",
       "  </tbody>\n",
       "</table>\n",
       "</div>"
      ],
      "text/plain": [
       "          itemID  rating         userID\n",
       "3879  B00RUZPKRQ       5  ALOXOO497B4LH\n",
       "4278  B0186D1TYS       5  ALOXOO497B4LH\n",
       "4972  B01FWKKVTM       5  ALOXOO497B4LH"
      ]
     },
     "execution_count": 6,
     "metadata": {},
     "output_type": "execute_result"
    }
   ],
   "source": [
    "des_user_name = df[df['userID'] == 'ALOXOO497B4LH'].drop(df.columns[3], axis=1)\n",
    "des_user_name"
   ]
  },
  {
   "cell_type": "code",
   "execution_count": 26,
   "metadata": {},
   "outputs": [
    {
     "name": "stdout",
     "output_type": "stream",
     "text": [
      "<generator object Trainset.all_ratings at 0x0000017D4D9AD948>\n"
     ]
    }
   ],
   "source": [
    "print ( trainset.all_ratings() )"
   ]
  },
  {
   "cell_type": "code",
   "execution_count": 30,
   "metadata": {},
   "outputs": [
    {
     "name": "stdout",
     "output_type": "stream",
     "text": [
      "3615\n"
     ]
    }
   ],
   "source": [
    "i = 0 \n",
    "for item in df['userID'].unique():\n",
    "    if item == 'ALOXOO497B4LH':\n",
    "        print (i)\n",
    "    i += 1"
   ]
  },
  {
   "cell_type": "code",
   "execution_count": 32,
   "metadata": {},
   "outputs": [
    {
     "data": {
      "text/plain": [
       "4593"
      ]
     },
     "execution_count": 32,
     "metadata": {},
     "output_type": "execute_result"
    }
   ],
   "source": [
    "len ( df['userID'].unique() )"
   ]
  },
  {
   "cell_type": "code",
   "execution_count": 6,
   "metadata": {},
   "outputs": [
    {
     "data": {
      "text/plain": [
       "[0, 1, 2, 3, 4, 5, 6, 7, 8, 9]"
      ]
     },
     "execution_count": 6,
     "metadata": {},
     "output_type": "execute_result"
    }
   ],
   "source": [
    "df = pd.read_csv('testForInput.csv')\n",
    "i = 0 \n",
    "for item in df['userID'].unique():\n",
    "    if item == 'ALOXOO497B4LH':\n",
    "        break\n",
    "    i += 1\n",
    "\n",
    "toy_k_neighbors = knn_algo.get_neighbors(i, k=10)\n",
    "toy_k_neighbors"
   ]
  },
  {
   "cell_type": "code",
   "execution_count": 7,
   "metadata": {},
   "outputs": [
    {
     "data": {
      "text/plain": [
       "3615"
      ]
     },
     "execution_count": 7,
     "metadata": {},
     "output_type": "execute_result"
    }
   ],
   "source": [
    "i"
   ]
  },
  {
   "cell_type": "code",
   "execution_count": null,
   "metadata": {},
   "outputs": [],
   "source": []
  }
 ],
 "metadata": {
  "kernelspec": {
   "display_name": "Python 3",
   "language": "python",
   "name": "python3"
  },
  "language_info": {
   "codemirror_mode": {
    "name": "ipython",
    "version": 3
   },
   "file_extension": ".py",
   "mimetype": "text/x-python",
   "name": "python",
   "nbconvert_exporter": "python",
   "pygments_lexer": "ipython3",
   "version": "3.7.4"
  }
 },
 "nbformat": 4,
 "nbformat_minor": 2
}
