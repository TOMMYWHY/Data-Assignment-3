{
 "cells": [
  {
   "cell_type": "code",
   "execution_count": 3,
   "metadata": {},
   "outputs": [],
   "source": [
    "from collections import defaultdict\n",
    "from surprise import Dataset\n",
    "import pandas as pd\n",
    "from surprise import SVD\n",
    "from surprise import NormalPredictor\n",
    "from surprise import Dataset\n",
    "from surprise import Reader\n",
    "from surprise.model_selection import cross_validate\n",
    "import numpy as np\n",
    "from surprise import dump\n",
    "import os\n",
    "\n",
    "import io  # needed because of weird encoding of u.item file\n",
    "\n",
    "from surprise import KNNBaseline\n",
    "from surprise import get_dataset_dir\n",
    "\n"
   ]
  },
  {
   "cell_type": "code",
   "execution_count": null,
   "metadata": {},
   "outputs": [],
   "source": [
    "def get_top_n(predictions, n=10):\n",
    "    '''Return the top-N recommendation for each user from a set of predictions.\n",
    "\n",
    "    Args:\n",
    "        predictions(list of Prediction objects): The list of predictions, as\n",
    "            returned by the test method of an algorithm.\n",
    "        n(int): The number of recommendation to output for each user. Default\n",
    "            is 10.\n",
    "\n",
    "    Returns:\n",
    "    A dict where keys are user (raw) ids and values are lists of tuples:\n",
    "        [(raw item id, rating estimation), ...] of size n.\n",
    "    '''\n",
    "\n",
    "    # First map the predictions to each user.\n",
    "    top_n = defaultdict(list)\n",
    "    for uid, iid, true_r, est, _ in predictions:\n",
    "        top_n[uid].append((iid, est))\n",
    "\n",
    "    # Then sort the predictions for each user and retrieve the k highest ones.\n",
    "    for uid, user_ratings in top_n.items():\n",
    "        user_ratings.sort(key=lambda x: x[1], reverse=True)\n",
    "        top_n[uid] = user_ratings[:n]\n",
    "\n",
    "    return top_n\n",
    "\n",
    "def train_and_save_prediction_model (file_to_save) :\n",
    "    #train and save model\n",
    "\n",
    "    df = pd.read_csv('testForInput.csv')\n",
    "    # A reader is still needed but only the rating_scale param is requiered.\n",
    "    reader = Reader(rating_scale=(1, 5))\n",
    "\n",
    "    # The columns must correspond to user id, item id and ratings (in that order).\n",
    "    data = Dataset.load_from_df(df[['userID', 'itemID', 'rating']], reader)\n",
    "    trainset = data.build_full_trainset()\n",
    "    #train data with algorithm\n",
    "    algo = SVD()\n",
    "    #cross_validate(algo, data, measures=['RMSE', 'MAE'], cv=5, verbose=True)\n",
    "    algo.fit(trainset)\n",
    "    # Dump algorithm and reload it.\n",
    "    file_name = os.path.expanduser(file_to_save)\n",
    "    dump.dump(file_name, algo=algo)\n",
    "\n",
    "def train_and_save_similarity_model(file_to_save):\n",
    "    df = pd.read_csv('testForInput.csv')\n",
    "    # A reader is still needed but only the rating_scale param is requiered.\n",
    "    reader = Reader(rating_scale=(1, 5))\n",
    "\n",
    "    # The columns must correspond to user id, item id and ratings (in that order).\n",
    "    data = Dataset.load_from_df(df[['userID', 'itemID', 'rating']], reader)\n",
    "    trainset = data.build_full_trainset()\n",
    "    sim_options = {'name': 'cosine', 'user_based': False} # or item based\n",
    "    algo = KNNBaseline(sim_options=sim_options)\n",
    "    algo.fit(trainset)\n",
    "    \n",
    "    # Dump algorithm and reload it.\n",
    "    file_name = os.path.expanduser(file_to_save)\n",
    "    dump.dump(file_name, algo=algo)\n",
    "    \n",
    "    \n",
    "    \n",
    "    \n",
    "def load_model_from_disk(file_to_load):\n",
    "    file_name = os.path.expanduser(file_to_load) # 'SVD_dump_file'\n",
    "    _, loaded_algo = dump.load(file_name)\n",
    "    return loaded_algo"
   ]
  },
  {
   "cell_type": "code",
   "execution_count": 3,
   "metadata": {},
   "outputs": [],
   "source": [
    "train_and_save_prediction_model ('SVD_dump_file')"
   ]
  },
  {
   "cell_type": "code",
   "execution_count": 39,
   "metadata": {},
   "outputs": [
    {
     "name": "stdout",
     "output_type": "stream",
     "text": [
      "Estimating biases using als...\n",
      "Computing the cosine similarity matrix...\n",
      "Done computing similarity matrix.\n"
     ]
    }
   ],
   "source": [
    "train_and_save_similarity_model('KNNbaseline_dump_file')"
   ]
  },
  {
   "cell_type": "code",
   "execution_count": 3,
   "metadata": {},
   "outputs": [],
   "source": [
    "prediction_algo = load_model_from_disk('SVD_dump_file')"
   ]
  },
  {
   "cell_type": "code",
   "execution_count": 40,
   "metadata": {},
   "outputs": [],
   "source": [
    "knn_algo = load_model_from_disk('KNNbaseline_dump_file')"
   ]
  },
  {
   "cell_type": "code",
   "execution_count": null,
   "metadata": {},
   "outputs": [
    {
     "name": "stdout",
     "output_type": "stream",
     "text": [
      " * Serving Flask app \"__main__\" (lazy loading)\n",
      " * Environment: production\n",
      "   WARNING: This is a development server. Do not use it in a production deployment.\n",
      "   Use a production WSGI server instead.\n",
      " * Debug mode: off\n"
     ]
    },
    {
     "name": "stderr",
     "output_type": "stream",
     "text": [
      " * Running on http://127.0.0.1:5000/ (Press CTRL+C to quit)\n",
      "127.0.0.1 - - [14/Jun/2020 11:31:24] \"GET / HTTP/1.1\" 404 -\n",
      "127.0.0.1 - - [14/Jun/2020 11:31:29] \"GET /knn/4 HTTP/1.1\" 200 -\n",
      "127.0.0.1 - - [14/Jun/2020 11:31:32] \"GET /knn/5 HTTP/1.1\" 200 -\n",
      "127.0.0.1 - - [14/Jun/2020 11:31:34] \"GET /knn/3 HTTP/1.1\" 200 -\n",
      "127.0.0.1 - - [14/Jun/2020 11:31:53] \"GET /knn/2003 HTTP/1.1\" 200 -\n",
      "127.0.0.1 - - [14/Jun/2020 11:31:55] \"GET /knn/2002 HTTP/1.1\" 200 -\n",
      "127.0.0.1 - - [14/Jun/2020 11:32:01] \"GET /knn/2001 HTTP/1.1\" 200 -\n"
     ]
    }
   ],
   "source": [
    "from flask import Flask\n",
    "app = Flask(__name__)\n",
    "df = pd.read_csv('testForInput.csv')\n",
    "#'ALOXOO497B4LH'\n",
    "@app.route('/topN/<user_name>')\n",
    "def get_TopN_items_prediction(user_name):\n",
    "    \n",
    "    test = df[df['userID'] == user_name].drop(df.columns[3], axis=1)\n",
    "    columnsTitles=[\"userID\",\"itemID\",\"rating\"]\n",
    "    test=test.reindex(columns=columnsTitles)\n",
    "    predictions = prediction_algo.test(np.array(test))\n",
    "\n",
    "    top_n = get_top_n(predictions, n=10)\n",
    "    ret = []\n",
    "    # Print the recommended items for each user\n",
    "    for uid, user_ratings in top_n.items():\n",
    "        ret.append ( (uid, [iid for (iid, _) in user_ratings]) )\n",
    "    return str(ret[0])    \n",
    "\n",
    "@app.route('/knn/<item_id>')\n",
    "def get_k_nearest_neighbour_by_itme (item_id):\n",
    "    toy_k_neighbors = knn_algo.get_neighbors(int(item_id), k=10)\n",
    "    return ','.join(str(e) for e in toy_k_neighbors)\n",
    "    \n",
    "    \n",
    "\n",
    "\n",
    "if __name__ == '__main__':\n",
    "   app.run()"
   ]
  },
  {
   "cell_type": "code",
   "execution_count": null,
   "metadata": {},
   "outputs": [],
   "source": [
    "from surprise import KNNBasic\n",
    "\n",
    "df = pd.read_csv('testForInput.csv')\n",
    "# A reader is still needed but only the rating_scale param is requiered.\n",
    "reader = Reader(rating_scale=(1, 5))\n",
    "\n",
    "# The columns must correspond to user id, item id and ratings (in that order).\n",
    "data = Dataset.load_from_df(df[['userID', 'itemID', 'rating']], reader)\n",
    "trainset = data.build_full_trainset()\n",
    "sim_options = {'name': 'cosine', 'user_based': False}\n",
    "algo = KNNBaseline(sim_options=sim_options)\n",
    "algo.fit(trainset)"
   ]
  },
  {
   "cell_type": "code",
   "execution_count": null,
   "metadata": {},
   "outputs": [],
   "source": [
    "for i in range ( 2000 , 3000) :\n",
    "    print (algo.get_neighbors(i, k=10))"
   ]
  },
  {
   "cell_type": "code",
   "execution_count": null,
   "metadata": {},
   "outputs": [],
   "source": []
  }
 ],
 "metadata": {
  "kernelspec": {
   "display_name": "Python 3",
   "language": "python",
   "name": "python3"
  },
  "language_info": {
   "codemirror_mode": {
    "name": "ipython",
    "version": 3
   },
   "file_extension": ".py",
   "mimetype": "text/x-python",
   "name": "python",
   "nbconvert_exporter": "python",
   "pygments_lexer": "ipython3",
   "version": "3.7.4"
  }
 },
 "nbformat": 4,
 "nbformat_minor": 2
}
